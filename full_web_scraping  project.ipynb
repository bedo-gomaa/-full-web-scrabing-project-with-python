{
 "cells": [
  {
   "attachments": {},
   "cell_type": "markdown",
   "metadata": {},
   "source": [
    "the website which i used to scrap tha data : https://en.wikipedia.org/wiki/Toy_Story_3 "
   ]
  },
  {
   "cell_type": "code",
   "execution_count": 3,
   "metadata": {},
   "outputs": [],
   "source": [
    "import pandas as pd\n",
    "import requests \n",
    "from  bs4 import BeautifulSoup as bs"
   ]
  },
  {
   "attachments": {},
   "cell_type": "markdown",
   "metadata": {},
   "source": [
    "load the webpage"
   ]
  },
  {
   "cell_type": "code",
   "execution_count": 4,
   "metadata": {},
   "outputs": [],
   "source": [
    "r= requests.get(\"https://en.wikipedia.org/wiki/Toy_Story_3\")\n",
    "# conveert to soub object \n",
    "soub= bs(r.content)\n",
    "contents= soub.prettify()\n"
   ]
  },
  {
   "attachments": {},
   "cell_type": "markdown",
   "metadata": {},
   "source": [
    "start scrap th info table in  the right  side of the webpage which  contain  \"Directed by, Screen by,Story by\" information "
   ]
  },
  {
   "cell_type": "code",
   "execution_count": null,
   "metadata": {},
   "outputs": [],
   "source": [
    "info_box = soub.find(class_=\"infobox vevent\" )\n",
    "info_rows= info_box.find_all(\"tr\")\n",
    "for row in info_rows:\n",
    "    print(row.prettify())\n",
    "  "
   ]
  },
  {
   "cell_type": "code",
   "execution_count": null,
   "metadata": {},
   "outputs": [],
   "source": [
    "def get_content_value(row_data):\n",
    "    if row.find(\"li\"):\n",
    "        return[li.get_text().replace(\"\\xa0\",\" \") for li in row_data.find_all(\"li\")]   \n",
    "    else:\n",
    "        return  row_data.get_text().replace(\"\\xa0\",\" \")\n",
    "\n",
    "movie_info ={}\n",
    "for index , row in enumerate(info_rows):\n",
    "    if index==0:\n",
    "        movie_info[\"title\"] = row.find(\"th\").get_text()\n",
    "    elif index == 1:\n",
    "        continue\n",
    "    else:\n",
    "        content_key= row.find(\"th\").get_text()\n",
    "        content_value =get_content_value(row.find(\"td\"))\n",
    "        movie_info[content_key] = content_value\n",
    "movie_info\n",
    "\n",
    "\n"
   ]
  },
  {
   "attachments": {},
   "cell_type": "markdown",
   "metadata": {},
   "source": [
    " get iformation box  for all Walt Disney movies in the webpage  : https://en.wikipedia.org/wiki/List_of_Walt_Disney_Pictures_films"
   ]
  },
  {
   "cell_type": "code",
   "execution_count": null,
   "metadata": {},
   "outputs": [],
   "source": [
    "r= requests.get(\"https://en.wikipedia.org/wiki/List_of_Walt_Disney_Pictures_films\")\n",
    "# conveert to soub object \n",
    "soub= bs(r.content)\n",
    "contents= soub.prettify()\n",
    "print(contents)"
   ]
  },
  {
   "cell_type": "code",
   "execution_count": 42,
   "metadata": {},
   "outputs": [],
   "source": [
    "def get_content_value(row_data):\n",
    "    if row.find(\"li\"):\n",
    "        return[li.get_text().replace(\"\\xa0\",\" \") for li in row_data.find_all(\"li\")]   \n",
    "    else:\n",
    "     return  row_data.get_text().replace(\"\\xa0\",\" \")\n",
    "\n",
    "def get_ifo_box (url):\n",
    "    \n",
    " r= requests.get(url)\n",
    "# conveert to soub object \n",
    " soub= bs(r.content)\n",
    " info_box = soub.find(class_=\"infobox vevent\" )\n",
    " info_rows= info_box.find_all(\"tr\")\n",
    "\n",
    " movie_info ={}\n",
    " for index , row in enumerate(info_rows):\n",
    "     if index==0:\n",
    "        movie_info[\"title\"] = row.find(\"th\").get_text()\n",
    "     elif index == 1:\n",
    "        continue\n",
    "     else:\n",
    "        content_key= row.find(\"th\").get_text()\n",
    "        content_value =get_content_value(row.find(\"td\"))\n",
    "        movie_info[content_key] = content_value\n",
    " return movie_info"
   ]
  },
  {
   "cell_type": "code",
   "execution_count": null,
   "metadata": {},
   "outputs": [],
   "source": [
    "r= requests.get(\"https://en.wikipedia.org/wiki/List_of_Walt_Disney_Pictures_films\")\n",
    "soub= bs(r.content)\n",
    "movies=soub.select(\".wikitable.sortable i a\")\n",
    "base_path = \"https://en.wikipedia.org/\"\n",
    "movie_ifo_list = []\n",
    "\n",
    "for index , movie in enumerate(movies):\n",
    "\n",
    "    try:\n",
    "       relative_path =movie[\"href\"]\n",
    "       full_path = base_path + relative_path\n",
    "       title=movie[\"title\"]\n",
    "       movie_ifo_list.append(get_ifo_box(full_path))\n",
    "       print(relative_path)\n",
    "       print(title)\n",
    "       print()\n",
    "    except Exception as e:\n",
    "        print(movie.get_text())\n",
    "        print(e)\n",
    "#movie_ifo_list[0]\n",
    "len(movie_ifo_list)"
   ]
  },
  {
   "attachments": {},
   "cell_type": "markdown",
   "metadata": {},
   "source": [
    "saving data in hson file"
   ]
  },
  {
   "cell_type": "code",
   "execution_count": 62,
   "metadata": {},
   "outputs": [],
   "source": [
    "import json\n",
    "def save_data (title, data):\n",
    " with open(title , \"w\",encoding=\"utf-8\")as f:\n",
    "    json.dump(data,f,ensure_ascii=False ,indent=2)"
   ]
  },
  {
   "cell_type": "code",
   "execution_count": 63,
   "metadata": {},
   "outputs": [],
   "source": [
    "import json \n",
    "def load_data(title):\n",
    " with open(title,encoding='utf-8') as f:\n",
    "    return json.load(f)"
   ]
  },
  {
   "cell_type": "code",
   "execution_count": 64,
   "metadata": {},
   "outputs": [],
   "source": [
    "save_data(\"disney_data.json\",movie_ifo_list)"
   ]
  },
  {
   "attachments": {},
   "cell_type": "markdown",
   "metadata": {},
   "source": [
    " now clean our data "
   ]
  },
  {
   "cell_type": "code",
   "execution_count": 71,
   "metadata": {},
   "outputs": [],
   "source": [
    "movie_ifo_list =load_data(\"disney_data.json\")\n"
   ]
  },
  {
   "cell_type": "code",
   "execution_count": null,
   "metadata": {},
   "outputs": [],
   "source": []
  }
 ],
 "metadata": {
  "kernelspec": {
   "display_name": "Python 3",
   "language": "python",
   "name": "python3"
  },
  "language_info": {
   "codemirror_mode": {
    "name": "ipython",
    "version": 3
   },
   "file_extension": ".py",
   "mimetype": "text/x-python",
   "name": "python",
   "nbconvert_exporter": "python",
   "pygments_lexer": "ipython3",
   "version": "3.10.5"
  },
  "orig_nbformat": 4,
  "vscode": {
   "interpreter": {
    "hash": "9041f1b3911547c9502ef9c40f4149284095faa8b5b2cdb7390244859e34deed"
   }
  }
 },
 "nbformat": 4,
 "nbformat_minor": 2
}
